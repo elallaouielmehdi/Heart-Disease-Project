{
 "cells": [
  {
   "cell_type": "markdown",
   "metadata": {},
   "source": [
    "# Features\n",
    "## This is what each feature mean !\n",
    "**age** \n",
    "age in years\n",
    "\n",
    "**sex**\n",
    "(1 = male; 0 = female)\n",
    "\n",
    "**cp**\n",
    "chest pain type [3, 2, 1, 0]\n",
    "<br>-- Value 0: typical angina \n",
    "<br>-- Value 1: atypical angina \n",
    "<br>-- Value 2: non-anginal pain \n",
    "<br>-- Value 3: asymptomatic\n",
    "\n",
    "**trestbps**\n",
    "resting blood pressure (in mm Hg on admission to the hospital)\n",
    "\n",
    "**chol**\n",
    "serum cholestoral in mg/dl\n",
    "\n",
    "**fbs**\n",
    "(fasting blood sugar > 120 mg/dl) (1 = true; 0 = false)\n",
    "\n",
    "** restecg**\n",
    "resting electrocardiographic results\n",
    "<br>-- Value 0: normal \n",
    "<br>-- Value 1: having ST-T wave abnormality (T wave inversions and/or ST elevation or depression of > 0.05 mV) \n",
    "<br>-- Value 2: showing probable or definite left ventricular hypertrophy by Estes' criteria\n",
    "\n",
    "** thalach**\n",
    "maximum heart rate achieved\n",
    "\n",
    "** exang**\n",
    "exercise induced angina (1 = yes; 0 = no)\n",
    "\n",
    "** oldpeakST**\n",
    "depression induced by exercise relative to rest\n",
    "\n",
    "** slope**\n",
    "the slope of the peak exercise ST segment\n",
    "\n",
    "** ca**\n",
    "number of major vessels (0-3) colored by flourosopy\n",
    "\n",
    "** thal**\n",
    "3 = normal; 6 = fixed defect; 7 = reversable defect\n",
    "\n",
    "**target**\n",
    "1 or 0\n"
   ]
  },
  {
   "cell_type": "code",
   "execution_count": 5,
   "metadata": {},
   "outputs": [],
   "source": [
    "import pandas as pd\n",
    "import seaborn as sns\n",
    "import numpy as np\n",
    "import string\n",
    "\n",
    "from sklearn.linear_model import LinearRegression\n",
    "from sklearn.model_selection import train_test_split, cross_val_score\n",
    "from sklearn.linear_model import LinearRegression\n",
    "from sklearn.metrics import mean_squared_error, make_scorer\n",
    "\n",
    "from sklearn.model_selection import train_test_split\n",
    "\n",
    "from sklearn.feature_extraction.text import CountVectorizer\n",
    "from nltk import word_tokenize\n",
    "from nltk.corpus import stopwords\n",
    "from sklearn.naive_bayes import MultinomialNB\n",
    "import nltk\n",
    "\n",
    "import statsmodels.api as sm\n",
    "\n",
    "from sklearn.metrics import r2_score\n",
    "from sklearn.metrics import mean_absolute_error\n",
    "from sklearn.metrics import mean_squared_error\n",
    "from sklearn.metrics import accuracy_score\n",
    "\n",
    "# Packages for checking assumptions\n",
    "import matplotlib.pyplot as plt\n",
    "%matplotlib inline\n",
    "from pandas.plotting import scatter_matrix\n",
    "from matplotlib import rcParams\n",
    "\n",
    "rcParams['figure.figsize'] = 11,11\n"
   ]
  },
  {
   "cell_type": "code",
   "execution_count": 6,
   "metadata": {},
   "outputs": [
    {
     "name": "stdout",
     "output_type": "stream",
     "text": [
      "File Loaded Succesfully \n"
     ]
    }
   ],
   "source": [
    "path = './'\n",
    "filename = 'heart.csv'\n",
    "\n",
    "try:\n",
    "    data_heart = pd.read_csv(path+filename)\n",
    "    print(\"File Loaded Succesfully \")\n",
    "except:\n",
    "    print(\"File Not Found !!\")"
   ]
  },
  {
   "cell_type": "markdown",
   "metadata": {},
   "source": [
    "### How many data points for each class ?\n",
    "The dataset is almost balanced ✔✔✔✔"
   ]
  },
  {
   "cell_type": "code",
   "execution_count": 7,
   "metadata": {},
   "outputs": [
    {
     "data": {
      "image/png": "[encoded data removed]",
      "text/plain": [
       "<Figure size 792x792 with 1 Axes>"
      ]
     },
     "metadata": {},
     "output_type": "display_data"
    }
   ],
   "source": [
    "ax = sns.countplot(x=\"target\", data = data_heart)"
   ]
  },
  {
   "cell_type": "markdown",
   "metadata": {},
   "source": [
    "### Does The dataset have missingvalues ?\n",
    "there are no missing values ✔✔✔✔"
   ]
  },
  {
   "cell_type": "code",
   "execution_count": 33,
   "metadata": {},
   "outputs": [
    {
     "name": "stdout",
     "output_type": "stream",
     "text": [
      "0  missing values in - age\n",
      "0  missing values in - sex\n",
      "0  missing values in - cp\n",
      "0  missing values in - trestbps\n",
      "0  missing values in - chol\n",
      "0  missing values in - fbs\n",
      "0  missing values in - restecg\n",
      "0  missing values in - thalach\n",
      "0  missing values in - exang\n",
      "0  missing values in - oldpeak\n",
      "0  missing values in - slope\n",
      "0  missing values in - ca\n",
      "0  missing values in - thal\n",
      "0  missing values in - target\n"
     ]
    }
   ],
   "source": [
    "for col in data_heart.columns.values:\n",
    "    print(data_heart[col].isnull().sum(),\" missing values in -\",col)"
   ]
  },
  {
   "cell_type": "code",
   "execution_count": 25,
   "metadata": {},
   "outputs": [
    {
     "name": "stdout",
     "output_type": "stream",
     "text": [
      "['age', 'sex', 'cp', 'trestbps', 'chol', 'fbs', 'restecg', 'thalach', 'exang', 'oldpeak', 'slope', 'ca', 'thal', 'target']\n"
     ]
    }
   ],
   "source": [
    "print(data_heart.columns.values.tolist())"
   ]
  },
  {
   "cell_type": "code",
   "execution_count": 29,
   "metadata": {},
   "outputs": [
    {
     "data": {
      "text/plain": [
       "age          52.496970\n",
       "sex           0.563636\n",
       "cp            1.375758\n",
       "trestbps    129.303030\n",
       "chol        242.230303\n",
       "fbs           0.139394\n",
       "restecg       0.593939\n",
       "thalach     158.466667\n",
       "exang         0.139394\n",
       "oldpeak       0.583030\n",
       "slope         1.593939\n",
       "ca            0.363636\n",
       "thal          2.121212\n",
       "target        1.000000\n",
       "dtype: float64"
      ]
     },
     "execution_count": 29,
     "metadata": {},
     "output_type": "execute_result"
    }
   ],
   "source": [
    "data_heart[data_heart['target'] == 1].mean()"
   ]
  },
  {
   "cell_type": "code",
   "execution_count": 30,
   "metadata": {},
   "outputs": [
    {
     "data": {
      "text/plain": [
       "age          56.601449\n",
       "sex           0.826087\n",
       "cp            0.478261\n",
       "trestbps    134.398551\n",
       "chol        251.086957\n",
       "fbs           0.159420\n",
       "restecg       0.449275\n",
       "thalach     139.101449\n",
       "exang         0.550725\n",
       "oldpeak       1.585507\n",
       "slope         1.166667\n",
       "ca            1.166667\n",
       "thal          2.543478\n",
       "target        0.000000\n",
       "dtype: float64"
      ]
     },
     "execution_count": 30,
     "metadata": {},
     "output_type": "execute_result"
    }
   ],
   "source": [
    "data_heart[data_heart['target'] == 0].mean()"
   ]
  },
  {
   "cell_type": "code",
   "execution_count": null,
   "metadata": {},
   "outputs": [],
   "source": []
  }
 ],
 "metadata": {
  "kernelspec": {
   "display_name": "Python 3",
   "language": "python",
   "name": "python3"
  },
  "language_info": {
   "codemirror_mode": {
    "name": "ipython",
    "version": 3
   },
   "file_extension": ".py",
   "mimetype": "text/x-python",
   "name": "python",
   "nbconvert_exporter": "python",
   "pygments_lexer": "ipython3",
   "version": "3.6.5"
  }
 },
 "nbformat": 4,
 "nbformat_minor": 2
}
