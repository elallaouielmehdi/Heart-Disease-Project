{
 "cells": [
  {
   "cell_type": "markdown",
   "metadata": {},
   "source": [
    "This notebook contains \n",
    "1. Logistic Regression implementation\n",
    "2. Random Forest implementation \n",
    "3. Neural Networks implementation"
   ]
  },
  {
   "cell_type": "markdown",
   "metadata": {},
   "source": [
    "# Implementation Notebook\n",
    "In this notebook we go through various models we applied to solve this problem !"
   ]
  },
  {
   "cell_type": "code",
   "execution_count": 1,
   "metadata": {},
   "outputs": [],
   "source": [
    "#import packages:\n",
    "import pandas as pd\n",
    "import numpy as np\n",
    "import statsmodels.api as sm\n",
    "import scipy.stats as st\n",
    "import matplotlib.pyplot as plt\n",
    "import seaborn as sn\n",
    "from sklearn.metrics import confusion_matrix, classification_report\n",
    "import matplotlib.mlab as mlab\n",
    "%matplotlib inline"
   ]
  },
  {
   "cell_type": "code",
   "execution_count": 2,
   "metadata": {},
   "outputs": [
    {
     "name": "stdout",
     "output_type": "stream",
     "text": [
      "File Loaded Succesfully \n"
     ]
    }
   ],
   "source": [
    "#load the data:\n",
    "path = './'\n",
    "filename = 'DATA.csv'\n",
    "\n",
    "try:\n",
    "    heart_data = pd.read_csv(path+filename,sep=\"\\t\")\n",
    "    heart_data = heart_data.drop(['Unnamed: 0'], axis=1)\n",
    "    print(\"File Loaded Succesfully \")\n",
    "except:\n",
    "    print(\"File Not Found !!\")"
   ]
  },
  {
   "cell_type": "markdown",
   "metadata": {},
   "source": [
    "# First Model :  Logistic Regression"
   ]
  },
  {
   "cell_type": "code",
   "execution_count": 3,
   "metadata": {},
   "outputs": [],
   "source": [
    "from statsmodels.tools import add_constant as add_constant\n",
    "from sklearn.model_selection import train_test_split, cross_val_score\n",
    "\n",
    "'''\n",
    "    making our dataFrame constant to prevent any unwanted changes\n",
    "'''\n",
    "heart_data_constant = add_constant(heart_data)\n",
    "heart_data_constant.head()\n",
    "\n",
    "\n",
    "y = heart_data_constant['target'] \n",
    "exclude_col = ['target']\n",
    "\n",
    "#including all our independent variables in input\n",
    "X = heart_data_constant[[i for i in heart_data_constant.columns.values.tolist() if i not in exclude_col]]\n",
    "\n",
    "#spliting data to 80% train and 20% test\n",
    "X_train, X_test, y_train, y_test = train_test_split(X, y, test_size=0.20, random_state=10)"
   ]
  },
  {
   "cell_type": "code",
   "execution_count": 4,
   "metadata": {},
   "outputs": [
    {
     "name": "stdout",
     "output_type": "stream",
     "text": [
      "Optimization terminated successfully.\n",
      "         Current function value: 0.336815\n",
      "         Iterations 7\n"
     ]
    },
    {
     "data": {
      "text/html": [
       "<table class=\"simpletable\">\n",
       "<caption>Logit Regression Results</caption>\n",
       "<tr>\n",
       "  <th>Dep. Variable:</th>      <td>target</td>      <th>  No. Observations:  </th>  <td>   242</td>  \n",
       "</tr>\n",
       "<tr>\n",
       "  <th>Model:</th>               <td>Logit</td>      <th>  Df Residuals:      </th>  <td>   228</td>  \n",
       "</tr>\n",
       "<tr>\n",
       "  <th>Method:</th>               <td>MLE</td>       <th>  Df Model:          </th>  <td>    13</td>  \n",
       "</tr>\n",
       "<tr>\n",
       "  <th>Date:</th>          <td>Sun, 25 Nov 2018</td> <th>  Pseudo R-squ.:     </th>  <td>0.5062</td>  \n",
       "</tr>\n",
       "<tr>\n",
       "  <th>Time:</th>              <td>22:31:41</td>     <th>  Log-Likelihood:    </th> <td> -81.509</td> \n",
       "</tr>\n",
       "<tr>\n",
       "  <th>converged:</th>           <td>True</td>       <th>  LL-Null:           </th> <td> -165.05</td> \n",
       "</tr>\n",
       "<tr>\n",
       "  <th> </th>                      <td> </td>        <th>  LLR p-value:       </th> <td>7.204e-29</td>\n",
       "</tr>\n",
       "</table>\n",
       "<table class=\"simpletable\">\n",
       "<tr>\n",
       "      <td></td>        <th>coef</th>     <th>std err</th>      <th>z</th>      <th>P>|z|</th>  <th>[0.025</th>    <th>0.975]</th>  \n",
       "</tr>\n",
       "<tr>\n",
       "  <th>const</th>    <td>   -2.6717</td> <td>    2.833</td> <td>   -0.943</td> <td> 0.346</td> <td>   -8.225</td> <td>    2.881</td>\n",
       "</tr>\n",
       "<tr>\n",
       "  <th>age</th>      <td>-1.593e-05</td> <td>    0.026</td> <td>   -0.001</td> <td> 1.000</td> <td>   -0.051</td> <td>    0.051</td>\n",
       "</tr>\n",
       "<tr>\n",
       "  <th>sex</th>      <td>    2.1104</td> <td>    0.543</td> <td>    3.887</td> <td> 0.000</td> <td>    1.046</td> <td>    3.175</td>\n",
       "</tr>\n",
       "<tr>\n",
       "  <th>cp</th>       <td>   -0.8266</td> <td>    0.209</td> <td>   -3.961</td> <td> 0.000</td> <td>   -1.236</td> <td>   -0.418</td>\n",
       "</tr>\n",
       "<tr>\n",
       "  <th>trestbps</th> <td>    0.0236</td> <td>    0.012</td> <td>    2.049</td> <td> 0.041</td> <td>    0.001</td> <td>    0.046</td>\n",
       "</tr>\n",
       "<tr>\n",
       "  <th>chol</th>     <td>    0.0083</td> <td>    0.004</td> <td>    1.921</td> <td> 0.055</td> <td>   -0.000</td> <td>    0.017</td>\n",
       "</tr>\n",
       "<tr>\n",
       "  <th>fbs</th>      <td>   -0.0833</td> <td>    0.584</td> <td>   -0.143</td> <td> 0.886</td> <td>   -1.227</td> <td>    1.061</td>\n",
       "</tr>\n",
       "<tr>\n",
       "  <th>restecg</th>  <td>   -0.1831</td> <td>    0.403</td> <td>   -0.454</td> <td> 0.650</td> <td>   -0.974</td> <td>    0.608</td>\n",
       "</tr>\n",
       "<tr>\n",
       "  <th>thalach</th>  <td>   -0.0307</td> <td>    0.012</td> <td>   -2.475</td> <td> 0.013</td> <td>   -0.055</td> <td>   -0.006</td>\n",
       "</tr>\n",
       "<tr>\n",
       "  <th>exang</th>    <td>    0.9188</td> <td>    0.464</td> <td>    1.979</td> <td> 0.048</td> <td>    0.009</td> <td>    1.829</td>\n",
       "</tr>\n",
       "<tr>\n",
       "  <th>oldpeak</th>  <td>    0.2698</td> <td>    0.256</td> <td>    1.054</td> <td> 0.292</td> <td>   -0.232</td> <td>    0.772</td>\n",
       "</tr>\n",
       "<tr>\n",
       "  <th>slope</th>    <td>   -0.8093</td> <td>    0.391</td> <td>   -2.068</td> <td> 0.039</td> <td>   -1.576</td> <td>   -0.042</td>\n",
       "</tr>\n",
       "<tr>\n",
       "  <th>ca</th>       <td>    1.0547</td> <td>    0.252</td> <td>    4.192</td> <td> 0.000</td> <td>    0.562</td> <td>    1.548</td>\n",
       "</tr>\n",
       "<tr>\n",
       "  <th>thal</th>     <td>    0.5191</td> <td>    0.322</td> <td>    1.614</td> <td> 0.106</td> <td>   -0.111</td> <td>    1.149</td>\n",
       "</tr>\n",
       "</table>"
      ],
      "text/plain": [
       "<class 'statsmodels.iolib.summary.Summary'>\n",
       "\"\"\"\n",
       "                           Logit Regression Results                           \n",
       "==============================================================================\n",
       "Dep. Variable:                 target   No. Observations:                  242\n",
       "Model:                          Logit   Df Residuals:                      228\n",
       "Method:                           MLE   Df Model:                           13\n",
       "Date:                Sun, 25 Nov 2018   Pseudo R-squ.:                  0.5062\n",
       "Time:                        22:31:41   Log-Likelihood:                -81.509\n",
       "converged:                       True   LL-Null:                       -165.05\n",
       "                                        LLR p-value:                 7.204e-29\n",
       "==============================================================================\n",
       "                 coef    std err          z      P>|z|      [0.025      0.975]\n",
       "------------------------------------------------------------------------------\n",
       "const         -2.6717      2.833     -0.943      0.346      -8.225       2.881\n",
       "age        -1.593e-05      0.026     -0.001      1.000      -0.051       0.051\n",
       "sex            2.1104      0.543      3.887      0.000       1.046       3.175\n",
       "cp            -0.8266      0.209     -3.961      0.000      -1.236      -0.418\n",
       "trestbps       0.0236      0.012      2.049      0.041       0.001       0.046\n",
       "chol           0.0083      0.004      1.921      0.055      -0.000       0.017\n",
       "fbs           -0.0833      0.584     -0.143      0.886      -1.227       1.061\n",
       "restecg       -0.1831      0.403     -0.454      0.650      -0.974       0.608\n",
       "thalach       -0.0307      0.012     -2.475      0.013      -0.055      -0.006\n",
       "exang          0.9188      0.464      1.979      0.048       0.009       1.829\n",
       "oldpeak        0.2698      0.256      1.054      0.292      -0.232       0.772\n",
       "slope         -0.8093      0.391     -2.068      0.039      -1.576      -0.042\n",
       "ca             1.0547      0.252      4.192      0.000       0.562       1.548\n",
       "thal           0.5191      0.322      1.614      0.106      -0.111       1.149\n",
       "==============================================================================\n",
       "\"\"\""
      ]
     },
     "execution_count": 4,
     "metadata": {},
     "output_type": "execute_result"
    }
   ],
   "source": [
    "model = sm.Logit(y_train,X_train)\n",
    "result = model.fit()\n",
    "result.summary()"
   ]
  },
  {
   "cell_type": "code",
   "execution_count": 5,
   "metadata": {},
   "outputs": [
    {
     "name": "stdout",
     "output_type": "stream",
     "text": [
      "             precision    recall  f1-score   support\n",
      "\n",
      "          0      0.700     0.808     0.750        26\n",
      "          1      0.839     0.743     0.788        35\n",
      "\n",
      "avg / total      0.780     0.770     0.772        61\n",
      "\n"
     ]
    }
   ],
   "source": [
    "predictions = result.predict(X_test)\n",
    "predictions_nominal = [ 0 if x < 0.5 else 1 for x in predictions]\n",
    "print (classification_report(y_test, predictions_nominal, digits=3))"
   ]
  },
  {
   "cell_type": "markdown",
   "metadata": {},
   "source": [
    "The overall precision is 78 % \n",
    "\n",
    "The results above show some of the attributes with P-value higher than the preferred alpha(5%) and thereby showing low statistically significant relationship with the probability of heart disease. Backward elemination approach is used here to remove those attributes with highest Pvalue one at a time follwed by running the regression repeatedly until all attributes have P Values less than 0.05.\n"
   ]
  },
  {
   "cell_type": "markdown",
   "metadata": {},
   "source": [
    "**Feature Selection: Backward elemination (P-value approach)**"
   ]
  },
  {
   "cell_type": "code",
   "execution_count": 6,
   "metadata": {},
   "outputs": [],
   "source": [
    "def back_feature_elem (data_frame,dep_var,col_list): \n",
    "    '''\n",
    "        Takes in the dataframe, the dependent variable and a list of column names, \n",
    "        runs the regression repeatedly eleminating feature with the highest\n",
    "        P-value above alpha one at a time and returns the regression summary with all p-values below alpha\n",
    "    '''\n",
    "    \n",
    "\n",
    "    while len(col_list)>0 :\n",
    "        model = sm.Logit(dep_var,data_frame[col_list])\n",
    "        result = model.fit(disp=0)\n",
    "        largest_pvalue = round(result.pvalues,3).nlargest(1)\n",
    "        if largest_pvalue[0]<(0.05):\n",
    "            return result\n",
    "            break\n",
    "        else:\n",
    "            col_list = col_list.drop(largest_pvalue.index)"
   ]
  },
  {
   "cell_type": "code",
   "execution_count": 7,
   "metadata": {},
   "outputs": [
    {
     "data": {
      "text/html": [
       "<table class=\"simpletable\">\n",
       "<caption>Logit Regression Results</caption>\n",
       "<tr>\n",
       "  <th>Dep. Variable:</th>      <td>target</td>      <th>  No. Observations:  </th>  <td>   242</td>  \n",
       "</tr>\n",
       "<tr>\n",
       "  <th>Model:</th>               <td>Logit</td>      <th>  Df Residuals:      </th>  <td>   234</td>  \n",
       "</tr>\n",
       "<tr>\n",
       "  <th>Method:</th>               <td>MLE</td>       <th>  Df Model:          </th>  <td>     7</td>  \n",
       "</tr>\n",
       "<tr>\n",
       "  <th>Date:</th>          <td>Sun, 25 Nov 2018</td> <th>  Pseudo R-squ.:     </th>  <td>0.4927</td>  \n",
       "</tr>\n",
       "<tr>\n",
       "  <th>Time:</th>              <td>22:31:41</td>     <th>  Log-Likelihood:    </th> <td> -83.727</td> \n",
       "</tr>\n",
       "<tr>\n",
       "  <th>converged:</th>           <td>True</td>       <th>  LL-Null:           </th> <td> -165.05</td> \n",
       "</tr>\n",
       "<tr>\n",
       "  <th> </th>                      <td> </td>        <th>  LLR p-value:       </th> <td>8.867e-32</td>\n",
       "</tr>\n",
       "</table>\n",
       "<table class=\"simpletable\">\n",
       "<tr>\n",
       "      <td></td>        <th>coef</th>     <th>std err</th>      <th>z</th>      <th>P>|z|</th>  <th>[0.025</th>    <th>0.975]</th>  \n",
       "</tr>\n",
       "<tr>\n",
       "  <th>sex</th>      <td>    2.2501</td> <td>    0.507</td> <td>    4.436</td> <td> 0.000</td> <td>    1.256</td> <td>    3.244</td>\n",
       "</tr>\n",
       "<tr>\n",
       "  <th>cp</th>       <td>   -0.8341</td> <td>    0.202</td> <td>   -4.127</td> <td> 0.000</td> <td>   -1.230</td> <td>   -0.438</td>\n",
       "</tr>\n",
       "<tr>\n",
       "  <th>trestbps</th> <td>    0.0217</td> <td>    0.009</td> <td>    2.412</td> <td> 0.016</td> <td>    0.004</td> <td>    0.039</td>\n",
       "</tr>\n",
       "<tr>\n",
       "  <th>chol</th>     <td>    0.0091</td> <td>    0.004</td> <td>    2.368</td> <td> 0.018</td> <td>    0.002</td> <td>    0.017</td>\n",
       "</tr>\n",
       "<tr>\n",
       "  <th>thalach</th>  <td>   -0.0382</td> <td>    0.010</td> <td>   -3.917</td> <td> 0.000</td> <td>   -0.057</td> <td>   -0.019</td>\n",
       "</tr>\n",
       "<tr>\n",
       "  <th>exang</th>    <td>    0.9262</td> <td>    0.442</td> <td>    2.097</td> <td> 0.036</td> <td>    0.060</td> <td>    1.792</td>\n",
       "</tr>\n",
       "<tr>\n",
       "  <th>slope</th>    <td>   -1.0086</td> <td>    0.330</td> <td>   -3.056</td> <td> 0.002</td> <td>   -1.655</td> <td>   -0.362</td>\n",
       "</tr>\n",
       "<tr>\n",
       "  <th>ca</th>       <td>    1.0785</td> <td>    0.231</td> <td>    4.663</td> <td> 0.000</td> <td>    0.625</td> <td>    1.532</td>\n",
       "</tr>\n",
       "</table>"
      ],
      "text/plain": [
       "<class 'statsmodels.iolib.summary.Summary'>\n",
       "\"\"\"\n",
       "                           Logit Regression Results                           \n",
       "==============================================================================\n",
       "Dep. Variable:                 target   No. Observations:                  242\n",
       "Model:                          Logit   Df Residuals:                      234\n",
       "Method:                           MLE   Df Model:                            7\n",
       "Date:                Sun, 25 Nov 2018   Pseudo R-squ.:                  0.4927\n",
       "Time:                        22:31:41   Log-Likelihood:                -83.727\n",
       "converged:                       True   LL-Null:                       -165.05\n",
       "                                        LLR p-value:                 8.867e-32\n",
       "==============================================================================\n",
       "                 coef    std err          z      P>|z|      [0.025      0.975]\n",
       "------------------------------------------------------------------------------\n",
       "sex            2.2501      0.507      4.436      0.000       1.256       3.244\n",
       "cp            -0.8341      0.202     -4.127      0.000      -1.230      -0.438\n",
       "trestbps       0.0217      0.009      2.412      0.016       0.004       0.039\n",
       "chol           0.0091      0.004      2.368      0.018       0.002       0.017\n",
       "thalach       -0.0382      0.010     -3.917      0.000      -0.057      -0.019\n",
       "exang          0.9262      0.442      2.097      0.036       0.060       1.792\n",
       "slope         -1.0086      0.330     -3.056      0.002      -1.655      -0.362\n",
       "ca             1.0785      0.231      4.663      0.000       0.625       1.532\n",
       "==============================================================================\n",
       "\"\"\""
      ]
     },
     "execution_count": 7,
     "metadata": {},
     "output_type": "execute_result"
    }
   ],
   "source": [
    "'''\n",
    "    this cell is for implementing backward elemination \n",
    "'''\n",
    "cols = heart_data_constant.columns[:-1]\n",
    "\n",
    "result = back_feature_elem(X_train,y_train,cols)\n",
    "result.summary()"
   ]
  },
  {
   "cell_type": "markdown",
   "metadata": {},
   "source": [
    "### Testing new logistic regression "
   ]
  },
  {
   "cell_type": "code",
   "execution_count": 8,
   "metadata": {},
   "outputs": [],
   "source": [
    "y = heart_data_constant['target'] \n",
    "include_col = ['sex','cp','thalach','exang','oldpeak','ca','thal']\n",
    "\n",
    "X = heart_data_constant[[i for i in heart_data_constant.columns.values.tolist() if i in include_col]]\n",
    "\n",
    "X_train, X_test, y_train, y_test = train_test_split(X, y, test_size=0.20, random_state=10)"
   ]
  },
  {
   "cell_type": "code",
   "execution_count": 9,
   "metadata": {},
   "outputs": [],
   "source": [
    "import sklearn\n",
    "from sklearn.linear_model import LogisticRegression\n",
    "logreg = LogisticRegression()\n",
    "logreg.fit(X_train,y_train)\n",
    "y_pred = logreg.predict(X_test)"
   ]
  },
  {
   "cell_type": "code",
   "execution_count": 10,
   "metadata": {},
   "outputs": [
    {
     "data": {
      "text/plain": [
       "0.819672131147541"
      ]
     },
     "execution_count": 10,
     "metadata": {},
     "output_type": "execute_result"
    }
   ],
   "source": [
    "sklearn.metrics.accuracy_score(y_test,y_pred)"
   ]
  },
  {
   "cell_type": "markdown",
   "metadata": {},
   "source": [
    "The overall precision is 82 % \n",
    "\n",
    "The results are better than before after eleminating some features it incereased by 4% from 78% to 82%."
   ]
  },
  {
   "cell_type": "markdown",
   "metadata": {},
   "source": [
    "** Confusion matrix :**"
   ]
  },
  {
   "cell_type": "code",
   "execution_count": 11,
   "metadata": {},
   "outputs": [
    {
     "data": {
      "text/plain": [
       "<matplotlib.axes._subplots.AxesSubplot at 0x238675f7f98>"
      ]
     },
     "execution_count": 11,
     "metadata": {},
     "output_type": "execute_result"
    },
    {
     "data": {
      "image/png": "[encoded data removed]",
      "text/plain": [
       "<Figure size 576x360 with 2 Axes>"
      ]
     },
     "metadata": {},
     "output_type": "display_data"
    }
   ],
   "source": [
    "from sklearn.metrics import confusion_matrix\n",
    "cm = confusion_matrix(y_test,y_pred)\n",
    "conf_matrix=pd.DataFrame(data=cm,columns=['Predicted:0','Predicted:1'],index=['Actual:0','Actual:1'])\n",
    "plt.figure(figsize = (8,5))\n",
    "sn.heatmap(conf_matrix, annot=True,fmt = 'd',cmap=\"YlGnBu\")"
   ]
  },
  {
   "cell_type": "markdown",
   "metadata": {},
   "source": [
    "Predicted probabilities of 0 (No Coronary Heart Disease) and 1 ( Coronary Heart Disease: Yes) for the test data with a default classification threshold of 0.5\n",
    "\n"
   ]
  },
  {
   "cell_type": "markdown",
   "metadata": {},
   "source": [
    "# Second Model : Random Forest Classifier"
   ]
  },
  {
   "cell_type": "code",
   "execution_count": 12,
   "metadata": {},
   "outputs": [],
   "source": [
    "from sklearn.ensemble import RandomForestClassifier"
   ]
  },
  {
   "cell_type": "code",
   "execution_count": 13,
   "metadata": {},
   "outputs": [],
   "source": [
    "y = heart_data['target'] \n",
    "exclude_col = ['target']\n",
    "\n",
    "X = heart_data[[i for i in heart_data.columns.values.tolist() if i not in exclude_col]]\n",
    "X_train, X_test, y_train, y_test = train_test_split(X, y, test_size=0.20, random_state=10)"
   ]
  },
  {
   "cell_type": "code",
   "execution_count": 36,
   "metadata": {},
   "outputs": [
    {
     "name": "stdout",
     "output_type": "stream",
     "text": [
      "acc train: 100.0\n",
      "acc test: 81.97\n"
     ]
    }
   ],
   "source": [
    "# Train: Random Forest\n",
    "random_forest = RandomForestClassifier(n_estimators= 17, random_state = 0)\n",
    "random_forest.fit(X_train, y_train)\n",
    "Y_pred = random_forest.predict(X_test)\n",
    "acc_train = round(random_forest.score(X_train, y_train) * 100, 2)\n",
    "acc_val = round(random_forest.score(X_test, y_test) * 100, 2)\n",
    "\n",
    "print(\"acc train: \" + str(acc_train))\n",
    "print(\"acc test: \"+ str(acc_val))"
   ]
  },
  {
   "cell_type": "code",
   "execution_count": 15,
   "metadata": {},
   "outputs": [
    {
     "data": {
      "image/png": "[encoded data removed]",
      "text/plain": [
       "<Figure size 432x288 with 1 Axes>"
      ]
     },
     "metadata": {},
     "output_type": "display_data"
    }
   ],
   "source": [
    "feature_importance = random_forest.feature_importances_\n",
    "feat_importances = pd.Series(random_forest.feature_importances_, index= heart_data.columns[:-1])\n",
    "feat_importances = feat_importances.nlargest(13)\n",
    "\n",
    "feature = heart_data.columns.values.tolist()[0:-1]\n",
    "importance = sorted(random_forest.feature_importances_.tolist())\n",
    "\n",
    "\n",
    "x_pos = [i for i, _ in enumerate(feature)]\n",
    "\n",
    "plt.barh(x_pos, importance , color='dodgerblue')\n",
    "plt.ylabel(\"feature\")\n",
    "plt.xlabel(\"importance\")\n",
    "plt.title(\"feature_importances\")\n",
    "\n",
    "plt.yticks(x_pos, feature)\n",
    "\n",
    "plt.show()"
   ]
  },
  {
   "cell_type": "markdown",
   "metadata": {},
   "source": [
    "# Third Model : Neural Networks"
   ]
  },
  {
   "cell_type": "code",
   "execution_count": 16,
   "metadata": {},
   "outputs": [],
   "source": [
    "X_train, X_test, y_train, y_test = train_test_split(X, y, test_size=0.20, random_state=10)"
   ]
  },
  {
   "cell_type": "code",
   "execution_count": 17,
   "metadata": {},
   "outputs": [
    {
     "name": "stdout",
     "output_type": "stream",
     "text": [
      "Epoch:  0  Test Acc :  tensor(42)  Training Acc : tensor(57)\n",
      "Epoch:  100  Test Acc :  tensor(42)  Training Acc : tensor(57)\n",
      "Epoch:  200  Test Acc :  tensor(42)  Training Acc : tensor(57)\n",
      "Epoch:  300  Test Acc :  tensor(42)  Training Acc : tensor(57)\n",
      "Epoch:  400  Test Acc :  tensor(42)  Training Acc : tensor(57)\n",
      "Epoch:  500  Test Acc :  tensor(42)  Training Acc : tensor(57)\n",
      "Epoch:  600  Test Acc :  tensor(42)  Training Acc : tensor(57)\n",
      "Epoch:  700  Test Acc :  tensor(42)  Training Acc : tensor(57)\n",
      "Epoch:  800  Test Acc :  tensor(42)  Training Acc : tensor(57)\n",
      "Epoch:  900  Test Acc :  tensor(42)  Training Acc : tensor(57)\n",
      "Epoch:  1000  Test Acc :  tensor(42)  Training Acc : tensor(57)\n",
      "Epoch:  1100  Test Acc :  tensor(42)  Training Acc : tensor(57)\n",
      "Epoch:  1200  Test Acc :  tensor(42)  Training Acc : tensor(57)\n",
      "Epoch:  1300  Test Acc :  tensor(67)  Training Acc : tensor(63)\n",
      "Epoch:  1400  Test Acc :  tensor(68)  Training Acc : tensor(66)\n",
      "Epoch:  1500  Test Acc :  tensor(70)  Training Acc : tensor(67)\n",
      "Epoch:  1600  Test Acc :  tensor(77)  Training Acc : tensor(74)\n",
      "Epoch:  1700  Test Acc :  tensor(75)  Training Acc : tensor(74)\n",
      "Epoch:  1800  Test Acc :  tensor(73)  Training Acc : tensor(78)\n",
      "Epoch:  1900  Test Acc :  tensor(78)  Training Acc : tensor(82)\n",
      "Epoch:  2000  Test Acc :  tensor(78)  Training Acc : tensor(85)\n",
      "Epoch:  2100  Test Acc :  tensor(78)  Training Acc : tensor(85)\n",
      "Epoch:  2200  Test Acc :  tensor(78)  Training Acc : tensor(86)\n",
      "Epoch:  2300  Test Acc :  tensor(77)  Training Acc : tensor(86)\n",
      "Epoch:  2400  Test Acc :  tensor(77)  Training Acc : tensor(86)\n",
      "Epoch:  2500  Test Acc :  tensor(77)  Training Acc : tensor(86)\n",
      "Epoch:  2600  Test Acc :  tensor(78)  Training Acc : tensor(86)\n",
      "Epoch:  2700  Test Acc :  tensor(78)  Training Acc : tensor(86)\n",
      "Epoch:  2800  Test Acc :  tensor(81)  Training Acc : tensor(86)\n",
      "Epoch:  2900  Test Acc :  tensor(80)  Training Acc : tensor(87)\n",
      "Epoch:  3000  Test Acc :  tensor(80)  Training Acc : tensor(86)\n",
      "Epoch:  3100  Test Acc :  tensor(80)  Training Acc : tensor(87)\n",
      "Epoch:  3200  Test Acc :  tensor(81)  Training Acc : tensor(87)\n"
     ]
    }
   ],
   "source": [
    "### importing pytorch\n",
    "import torch\n",
    "import torch.nn as nn\n",
    "import torch.nn.functional as F\n",
    "from torch.autograd import Variable\n",
    "torch.manual_seed(42)\n",
    "\n",
    "#hyperparameters\n",
    "h1 = 4\n",
    "h2 = 4\n",
    "lr = 0.0001\n",
    "num_epoch = 3300\n",
    "\n",
    "#build the neural nets model\n",
    "class Net(nn.Module):\n",
    "\n",
    "    def __init__(self):\n",
    "        super(Net, self).__init__()\n",
    "        self.fc1 = nn.Linear(13, h1)\n",
    "        self.fc2 = nn.Linear(h1, h2)\n",
    "        self.fc3 = nn.Linear(h2, 2)\n",
    "    \n",
    "\n",
    "    def forward(self, x):\n",
    "        x = F.relu(self.fc1(x))\n",
    "        x = F.relu(self.fc2(x))\n",
    "        x = self.fc3(x)\n",
    "        #return  F.log_softmax(x, dim=1)\n",
    "        return x\n",
    "    \n",
    "    \n",
    "net = Net()\n",
    "\n",
    "#defining optimizer and loss function\n",
    "criterion = nn.CrossEntropyLoss()\n",
    "optimizer = torch.optim.RMSprop(net.parameters(), lr=lr, momentum=0.7)\n",
    "\n",
    "loss_per_epoch = []\n",
    "\n",
    "#train\n",
    "for epoch in range(num_epoch):\n",
    "    X = Variable(torch.Tensor(X_train.values).float())\n",
    "    Y = Variable(torch.Tensor(y_train.values).long())\n",
    "\n",
    "    #feedforward - backprop\n",
    "    optimizer.zero_grad()\n",
    "    \n",
    "    out = net(X)\n",
    "    loss = criterion(out, Y)\n",
    "    loss.backward()\n",
    "    optimizer.step()\n",
    "\n",
    "    if (epoch) % 100 == 0:\n",
    "        #get test accuracy\n",
    "        X = Variable(torch.Tensor(X_test.values).float())\n",
    "        Y = torch.Tensor(y_test.values).long()\n",
    "        out = net(X)\n",
    "        _, predicted = torch.max(out.data, 1)\n",
    "\n",
    "\n",
    "        #get training accuracy \n",
    "        Xt = Variable(torch.Tensor(X_train.values).float())\n",
    "        Yt = torch.Tensor(y_train.values).long()\n",
    "        out = net(Xt)\n",
    "        _, predicted_train = torch.max(out.data, 1)\n",
    "\n",
    "        #print accuration\n",
    "        testacc = (100 * torch.sum(Y==predicted) / len(y_test))\n",
    "        trainacc = (100 * torch.sum(Yt==predicted_train) / len(y_train))\n",
    "        print('Epoch: ',epoch,' Test Acc : ', testacc ,' Training Acc :' ,trainacc)\n",
    "#         print ('Epoch [%d/%d] Loss: %.4f' \n",
    "#                    %(epoch+1, num_epoch, loss.data[0]))\n",
    "    loss_per_epoch.append(loss.item()) \n",
    "        \n"
   ]
  },
  {
   "cell_type": "code",
   "execution_count": 18,
   "metadata": {},
   "outputs": [
    {
     "data": {
      "image/png": "[encoded data removed]",
      "text/plain": [
       "<Figure size 432x288 with 1 Axes>"
      ]
     },
     "metadata": {},
     "output_type": "display_data"
    },
    {
     "name": "stdout",
     "output_type": "stream",
     "text": [
      "Accuracy of the Test 81 %\n",
      "Accuracy of the Training 87 %\n"
     ]
    }
   ],
   "source": [
    "epochs = np.arange(1,num_epoch + 1)\n",
    "plt.plot(epochs, loss_per_epoch, label='Training')\n",
    "plt.ylabel('Average Loss')\n",
    "plt.xlabel('Epochs')\n",
    "plt.title('Loss decay')\n",
    "plt.legend()\n",
    "plt.show()       \n",
    "\n",
    "xtest = X_test\n",
    "ytest = y_test\n",
    "\n",
    "#get prediction\n",
    "X = Variable(torch.Tensor(xtest.values).float())\n",
    "Y = torch.Tensor(ytest.values).long()\n",
    "out = net(X)\n",
    "_, predicted = torch.max(out.data, 1)\n",
    "\n",
    "\n",
    "#get prediction train\n",
    "Xt = Variable(torch.Tensor(X_train.values).float())\n",
    "Yt = torch.Tensor(y_train.values).long()\n",
    "out = net(Xt)\n",
    "_, predicted_train = torch.max(out.data, 1)\n",
    "\n",
    "#get accuration\n",
    "print('Accuracy of the Test %d %%' % (100 * torch.sum(Y==predicted) / len(y_test)))\n",
    "print('Accuracy of the Training %d %%' % (100 * torch.sum(Yt==predicted_train) / len(y_train)))"
   ]
  },
  {
   "cell_type": "markdown",
   "metadata": {},
   "source": [
    "## That's it : Summary"
   ]
  },
  {
   "cell_type": "markdown",
   "metadata": {},
   "source": [
    "With a data of only 303 rows we're more likely to overfit and not to generalize overall the real world situations but we're sure if we got larger dataset our models will be surely significant and can be trusted !"
   ]
  },
  {
   "cell_type": "code",
   "execution_count": null,
   "metadata": {},
   "outputs": [],
   "source": []
  }
 ],
 "metadata": {
  "kernelspec": {
   "display_name": "Python 3",
   "language": "python",
   "name": "python3"
  },
  "language_info": {
   "codemirror_mode": {
    "name": "ipython",
    "version": 3
   },
   "file_extension": ".py",
   "mimetype": "text/x-python",
   "name": "python",
   "nbconvert_exporter": "python",
   "pygments_lexer": "ipython3",
   "version": "3.6.5"
  }
 },
 "nbformat": 4,
 "nbformat_minor": 2
}
