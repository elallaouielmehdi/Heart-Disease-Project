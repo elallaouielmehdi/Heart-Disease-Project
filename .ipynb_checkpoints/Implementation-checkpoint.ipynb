{
 "cells": [
  {
   "cell_type": "code",
   "execution_count": 15,
   "metadata": {},
   "outputs": [],
   "source": [
    "import pandas as pd\n",
    "import seaborn as sns\n",
    "import numpy as np\n",
    "import string\n",
    "\n",
    "from sklearn.linear_model import LinearRegression\n",
    "from sklearn.model_selection import train_test_split, cross_val_score\n",
    "from sklearn.linear_model import LinearRegression\n",
    "from sklearn.metrics import mean_squared_error, make_scorer\n",
    "from sklearn.metrics import confusion_matrix, classification_report\n",
    "\n",
    "\n",
    "from sklearn.model_selection import train_test_split\n",
    "\n",
    "from sklearn.feature_extraction.text import CountVectorizer\n",
    "from nltk import word_tokenize\n",
    "from nltk.corpus import stopwords\n",
    "from sklearn.naive_bayes import MultinomialNB\n",
    "import nltk\n",
    "\n",
    "import statsmodels.api as sm\n",
    "\n",
    "from sklearn.metrics import r2_score\n",
    "from sklearn.metrics import mean_absolute_error\n",
    "from sklearn.metrics import mean_squared_error\n",
    "from sklearn.metrics import accuracy_score\n",
    "\n",
    "# Packages for checking assumptions\n",
    "import matplotlib.pyplot as plt\n",
    "%matplotlib inline\n",
    "from pandas.plotting import scatter_matrix\n",
    "from matplotlib import rcParams\n",
    "\n",
    "rcParams['figure.figsize'] = 11,11\n"
   ]
  },
  {
   "cell_type": "code",
   "execution_count": 2,
   "metadata": {},
   "outputs": [
    {
     "name": "stdout",
     "output_type": "stream",
     "text": [
      "File Loaded Succesfully \n"
     ]
    }
   ],
   "source": [
    "path = './'\n",
    "filename = 'heart.csv'\n",
    "\n",
    "try:\n",
    "    data_heart = pd.read_csv(path+filename)\n",
    "    print(\"File Loaded Succesfully \")\n",
    "except:\n",
    "    print(\"File Not Found !!\")"
   ]
  },
  {
   "cell_type": "code",
   "execution_count": 3,
   "metadata": {},
   "outputs": [
    {
     "data": {
      "text/plain": [
       "(303, 14)"
      ]
     },
     "execution_count": 3,
     "metadata": {},
     "output_type": "execute_result"
    }
   ],
   "source": [
    "data_heart.shape"
   ]
  },
  {
   "cell_type": "markdown",
   "metadata": {},
   "source": [
    "```python\n",
    "for indvar in data_heart.columns.values:\n",
    "    if indvar == 'target':\n",
    "        continue\n",
    "    sns.FacetGrid(data_heart, hue=\"target\", height =5) \\\n",
    "       .map(sns.distplot, indvar) \\\n",
    "       .add_legend();\n",
    "    plt.show();\n",
    "```"
   ]
  },
  {
   "cell_type": "markdown",
   "metadata": {},
   "source": [
    "In the next cells we're going to implement desicion trees to deduce feature importance"
   ]
  },
  {
   "cell_type": "code",
   "execution_count": 47,
   "metadata": {},
   "outputs": [
    {
     "name": "stdout",
     "output_type": "stream",
     "text": [
      "(303, 5) (303,)\n",
      "(212, 5) (212,)\n",
      "(91, 5) (91,)\n"
     ]
    }
   ],
   "source": [
    "y = data_heart['target'] \n",
    "include_col = ['cp','thalach','oldpeak','ca','thal']\n",
    "\n",
    "X = data_heart[[i for i in data_heart.columns.values.tolist() if i in include_col]]\n",
    "print (X.shape, y.shape)\n",
    "\n",
    "X_train, X_test, y_train, y_test = train_test_split(X, y, test_size=0.30, random_state=10)\n",
    "print (X_train.shape, y_train.shape)\n",
    "print (X_test.shape, y_test.shape)"
   ]
  },
  {
   "cell_type": "code",
   "execution_count": 48,
   "metadata": {},
   "outputs": [],
   "source": [
    "## Scikit learn and Statsmodel packages\n",
    "from sklearn.linear_model import LogisticRegression, LinearRegression\n",
    "import statsmodels.api as sm"
   ]
  },
  {
   "cell_type": "code",
   "execution_count": 49,
   "metadata": {},
   "outputs": [
    {
     "data": {
      "text/plain": [
       "LogisticRegression(C=1.0, class_weight=None, dual=False, fit_intercept=True,\n",
       "          intercept_scaling=1, max_iter=100, multi_class='ovr', n_jobs=1,\n",
       "          penalty='l2', random_state=None, solver='liblinear', tol=0.0001,\n",
       "          verbose=0, warm_start=False)"
      ]
     },
     "execution_count": 49,
     "metadata": {},
     "output_type": "execute_result"
    }
   ],
   "source": [
    "'''Use scikit learn'''\n",
    "r_d_logistic = LogisticRegression()\n",
    "r_d_logistic.fit(X_train, y_train)"
   ]
  },
  {
   "cell_type": "code",
   "execution_count": 50,
   "metadata": {},
   "outputs": [
    {
     "name": "stdout",
     "output_type": "stream",
     "text": [
      "Optimization terminated successfully.\n",
      "         Current function value: 0.400082\n",
      "         Iterations 7\n",
      "                           Logit Regression Results                           \n",
      "==============================================================================\n",
      "Dep. Variable:                 target   No. Observations:                  212\n",
      "Model:                          Logit   Df Residuals:                      207\n",
      "Method:                           MLE   Df Model:                            4\n",
      "Date:                Wed, 14 Nov 2018   Pseudo R-squ.:                  0.4105\n",
      "Time:                        20:58:35   Log-Likelihood:                -84.817\n",
      "converged:                       True   LL-Null:                       -143.88\n",
      "                                        LLR p-value:                 1.349e-24\n",
      "==============================================================================\n",
      "                 coef    std err          z      P>|z|      [0.025      0.975]\n",
      "------------------------------------------------------------------------------\n",
      "cp             0.8850      0.200      4.424      0.000       0.493       1.277\n",
      "thalach        0.0177      0.005      3.760      0.000       0.008       0.027\n",
      "oldpeak       -0.8100      0.211     -3.841      0.000      -1.223      -0.397\n",
      "ca            -0.8854      0.216     -4.094      0.000      -1.309      -0.462\n",
      "thal          -0.7827      0.292     -2.677      0.007      -1.356      -0.210\n",
      "==============================================================================\n"
     ]
    }
   ],
   "source": [
    "## Set up the regression\n",
    "logit = sm.Logit(y_train, X_train)\n",
    "logit_result = logit.fit()\n",
    "## lets get the results\n",
    "print (logit_result.summary())"
   ]
  },
  {
   "cell_type": "code",
   "execution_count": 51,
   "metadata": {},
   "outputs": [
    {
     "name": "stdout",
     "output_type": "stream",
     "text": [
      "246    0.047268\n",
      "183    0.361560\n",
      "229    0.570077\n",
      "126    0.707691\n",
      "184    0.100741\n",
      "1      0.663466\n",
      "59     0.589749\n",
      "194    0.626567\n",
      "132    0.899027\n",
      "175    0.124472\n",
      "dtype: float64\n"
     ]
    }
   ],
   "source": [
    "predictions = logit_result.predict(X_test)\n",
    "predictions_nominal = [ 0 if x < 0.5 else 1 for x in predictions]\n",
    "print (predictions[:10])"
   ]
  },
  {
   "cell_type": "code",
   "execution_count": 52,
   "metadata": {},
   "outputs": [
    {
     "name": "stdout",
     "output_type": "stream",
     "text": [
      "             precision    recall  f1-score   support\n",
      "\n",
      "          0      0.900     0.720     0.800        50\n",
      "          1      0.725     0.902     0.804        41\n",
      "\n",
      "avg / total      0.821     0.802     0.802        91\n",
      "\n"
     ]
    }
   ],
   "source": [
    "print (classification_report(y_test, predictions_nominal, digits=3))"
   ]
  },
  {
   "cell_type": "code",
   "execution_count": 54,
   "metadata": {},
   "outputs": [],
   "source": [
    "from sklearn.ensemble import RandomForestClassifier"
   ]
  },
  {
   "cell_type": "code",
   "execution_count": 55,
   "metadata": {},
   "outputs": [
    {
     "name": "stdout",
     "output_type": "stream",
     "text": [
      "(303, 13) (303,)\n",
      "(212, 13) (212,)\n",
      "(91, 13) (91,)\n"
     ]
    }
   ],
   "source": [
    "y = data_heart['target'] \n",
    "exclude_col = ['target']\n",
    "\n",
    "X = data_heart[[i for i in data_heart.columns.values.tolist() if i not in exclude_col]]\n",
    "print (X.shape, y.shape)\n",
    "\n",
    "X_train, X_test, y_train, y_test = train_test_split(X, y, test_size=0.30, random_state=10)\n",
    "print (X_train.shape, y_train.shape)\n",
    "print (X_test.shape, y_test.shape)"
   ]
  },
  {
   "cell_type": "code",
   "execution_count": 56,
   "metadata": {},
   "outputs": [
    {
     "name": "stdout",
     "output_type": "stream",
     "text": [
      "acc train: 100.0\n",
      "acc test: 81.32\n"
     ]
    }
   ],
   "source": [
    "# Train: Random Forest\n",
    "random_forest = RandomForestClassifier(n_estimators=50, random_state = 0)\n",
    "random_forest.fit(X_train, y_train)\n",
    "Y_pred = random_forest.predict(X_test)\n",
    "acc_train = round(random_forest.score(X_train, y_train) * 100, 2)\n",
    "acc_val = round(random_forest.score(X_test, y_test) * 100, 2)\n",
    "\n",
    "print(\"acc train: \" + str(acc_train))\n",
    "print(\"acc test: \"+ str(acc_val))"
   ]
  },
  {
   "cell_type": "code",
   "execution_count": 57,
   "metadata": {},
   "outputs": [
    {
     "data": {
      "image/png": "[encoded data removed]",
      "text/plain": [
       "<Figure size 792x792 with 1 Axes>"
      ]
     },
     "metadata": {},
     "output_type": "display_data"
    }
   ],
   "source": [
    "feature_importance = random_forest.feature_importances_\n",
    "feat_importances = pd.Series(random_forest.feature_importances_, index= data_heart.columns[:-1])\n",
    "feat_importances = feat_importances.nlargest(13)\n",
    "\n",
    "feature = data_heart.columns.values.tolist()[0:-1]\n",
    "importance = sorted(random_forest.feature_importances_.tolist())\n",
    "\n",
    "\n",
    "x_pos = [i for i, _ in enumerate(feature)]\n",
    "\n",
    "plt.barh(x_pos, importance , color='dodgerblue')\n",
    "plt.ylabel(\"feature\")\n",
    "plt.xlabel(\"importance\")\n",
    "plt.title(\"feature_importances\")\n",
    "\n",
    "plt.yticks(x_pos, feature)\n",
    "\n",
    "plt.show()"
   ]
  },
  {
   "cell_type": "markdown",
   "metadata": {},
   "source": [
    "# Neural Networks"
   ]
  },
  {
   "cell_type": "code",
   "execution_count": 86,
   "metadata": {},
   "outputs": [
    {
     "data": {
      "image/png": "[encoded data removed]",
      "text/plain": [
       "<Figure size 792x792 with 1 Axes>"
      ]
     },
     "metadata": {},
     "output_type": "display_data"
    },
    {
     "name": "stdout",
     "output_type": "stream",
     "text": [
      "Accuracy of the network 71 %\n",
      "Accuracy of the train 70 %\n"
     ]
    }
   ],
   "source": [
    "### NUERAL NETWORK\n",
    "\n",
    "xtrain = X_train\n",
    "ytrain = y_train\n",
    "\n",
    "import torch\n",
    "import torch.nn as nn\n",
    "import torch.nn.functional as F\n",
    "from torch.autograd import Variable\n",
    "torch.manual_seed(42)\n",
    "\n",
    "#hyperparameters\n",
    "# h1 = 6\n",
    "# h2 = 4 \n",
    "# lr = 0.0023\n",
    "# num_epoch =7000\n",
    "\n",
    "h1 = 6\n",
    "h2 = 4\n",
    "lr = 0.0001\n",
    "num_epoch = 9000\n",
    "\n",
    "#build model\n",
    "class Net(nn.Module):\n",
    "\n",
    "    def __init__(self):\n",
    "        super(Net, self).__init__()\n",
    "        self.fc1 = nn.Linear(13, h1)\n",
    "        self.fc2 = nn.Linear(h1, h2)\n",
    "        self.fc3 = nn.Linear(h2, 2)\n",
    "    \n",
    "\n",
    "    def forward(self, x):\n",
    "        x = F.relu(self.fc1(x))\n",
    "        x = F.relu(self.fc2(x))\n",
    "        x = self.fc3(x)\n",
    "        #return  F.log_softmax(x, dim=1)\n",
    "        return x\n",
    "    \n",
    "    \n",
    "net = Net()\n",
    "\n",
    "#choose optimizer and loss function\n",
    "criterion = nn.CrossEntropyLoss()\n",
    "optimizer = torch.optim.SGD(net.parameters(), lr=lr, momentum=0.7)\n",
    "\n",
    "loss_per_epoch = []\n",
    "\n",
    "#train\n",
    "for epoch in range(num_epoch):\n",
    "    X = Variable(torch.Tensor(xtrain.values).float())\n",
    "    Y = Variable(torch.Tensor(ytrain.values).long())\n",
    "\n",
    "    #feedforward - backprop\n",
    "    optimizer.zero_grad()\n",
    "    \n",
    "    out = net(X)\n",
    "    loss = criterion(out, Y)\n",
    "    loss.backward()\n",
    "    optimizer.step()\n",
    "\n",
    "#     if (epoch) % 50 == 0:\n",
    "#         print ('Epoch [%d/%d] Loss: %.4f' \n",
    "#                    %(epoch+1, num_epoch, loss.data[0]))\n",
    "    loss_per_epoch.append( loss.item()) \n",
    "        \n",
    "epochs = np.arange(1,num_epoch + 1)\n",
    "plt.plot(epochs, loss_per_epoch, label='Training')\n",
    "plt.ylabel('Average Loss')\n",
    "plt.xlabel('Epochs')\n",
    "plt.title('Loss decay')\n",
    "plt.legend()\n",
    "plt.show()       \n",
    "\n",
    "xtest = X_test\n",
    "ytest = y_test\n",
    "\n",
    "#get prediction\n",
    "X = Variable(torch.Tensor(xtest).float())\n",
    "Y = torch.Tensor(ytest.values).long()\n",
    "out = net(X)\n",
    "_, predicted = torch.max(out.data, 1)\n",
    "\n",
    "\n",
    "#get prediction train\n",
    "Xt = Variable(torch.Tensor(xtrain.values).float())\n",
    "Yt = torch.Tensor(ytrain).long()\n",
    "out = net(Xt)\n",
    "_, predicted_train = torch.max(out.data, 1)\n",
    "\n",
    "#get accuration\n",
    "print('Accuracy of the network %d %%' % (100 * torch.sum(Y==predicted) / len(y_test)))\n",
    "print('Accuracy of the train %d %%' % (100 * torch.sum(Yt==predicted_train) / len(y_train)))"
   ]
  },
  {
   "cell_type": "code",
   "execution_count": null,
   "metadata": {},
   "outputs": [],
   "source": []
  }
 ],
 "metadata": {
  "kernelspec": {
   "display_name": "Python 3",
   "language": "python",
   "name": "python3"
  },
  "language_info": {
   "codemirror_mode": {
    "name": "ipython",
    "version": 3
   },
   "file_extension": ".py",
   "mimetype": "text/x-python",
   "name": "python",
   "nbconvert_exporter": "python",
   "pygments_lexer": "ipython3",
   "version": "3.6.5"
  }
 },
 "nbformat": 4,
 "nbformat_minor": 2
}
