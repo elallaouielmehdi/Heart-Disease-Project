{
 "cells": [
  {
   "cell_type": "code",
   "execution_count": 1,
   "metadata": {},
   "outputs": [],
   "source": [
    "import pandas as pd\n",
    "import seaborn as sns\n",
    "import numpy as np\n",
    "import string\n",
    "\n",
    "from sklearn.linear_model import LinearRegression\n",
    "from sklearn.model_selection import train_test_split, cross_val_score\n",
    "from sklearn.linear_model import LinearRegression\n",
    "from sklearn.metrics import mean_squared_error, make_scorer\n",
    "from sklearn.metrics import confusion_matrix, classification_report\n",
    "\n",
    "\n",
    "from sklearn.model_selection import train_test_split\n",
    "\n",
    "import statsmodels.api as sm\n",
    "\n",
    "from sklearn.metrics import r2_score\n",
    "from sklearn.metrics import mean_absolute_error\n",
    "from sklearn.metrics import mean_squared_error\n",
    "from sklearn.metrics import accuracy_score\n",
    "\n",
    "# Packages for checking assumptions\n",
    "import matplotlib.pyplot as plt\n",
    "%matplotlib inline\n",
    "from pandas.plotting import scatter_matrix\n",
    "from matplotlib import rcParams\n",
    "\n",
    "rcParams['figure.figsize'] = 11,11\n"
   ]
  },
  {
   "cell_type": "markdown",
   "metadata": {},
   "source": [
    "# Loading Data"
   ]
  },
  {
   "cell_type": "code",
   "execution_count": 2,
   "metadata": {},
   "outputs": [
    {
     "name": "stdout",
     "output_type": "stream",
     "text": [
      "File Loaded Succesfully \n"
     ]
    },
    {
     "data": {
      "text/html": [
       "<div>\n",
       "<style scoped>\n",
       "    .dataframe tbody tr th:only-of-type {\n",
       "        vertical-align: middle;\n",
       "    }\n",
       "\n",
       "    .dataframe tbody tr th {\n",
       "        vertical-align: top;\n",
       "    }\n",
       "\n",
       "    .dataframe thead th {\n",
       "        text-align: right;\n",
       "    }\n",
       "</style>\n",
       "<table border=\"1\" class=\"dataframe\">\n",
       "  <thead>\n",
       "    <tr style=\"text-align: right;\">\n",
       "      <th></th>\n",
       "      <th>age</th>\n",
       "      <th>sex</th>\n",
       "      <th>cp</th>\n",
       "      <th>trestbps</th>\n",
       "      <th>chol</th>\n",
       "      <th>fbs</th>\n",
       "      <th>restecg</th>\n",
       "      <th>thalach</th>\n",
       "      <th>exang</th>\n",
       "      <th>oldpeak</th>\n",
       "      <th>slope</th>\n",
       "      <th>ca</th>\n",
       "      <th>thal</th>\n",
       "      <th>target</th>\n",
       "    </tr>\n",
       "  </thead>\n",
       "  <tbody>\n",
       "    <tr>\n",
       "      <th>0</th>\n",
       "      <td>63</td>\n",
       "      <td>1</td>\n",
       "      <td>3</td>\n",
       "      <td>145</td>\n",
       "      <td>233</td>\n",
       "      <td>1</td>\n",
       "      <td>0</td>\n",
       "      <td>150</td>\n",
       "      <td>0</td>\n",
       "      <td>2.3</td>\n",
       "      <td>0</td>\n",
       "      <td>0</td>\n",
       "      <td>1</td>\n",
       "      <td>0</td>\n",
       "    </tr>\n",
       "    <tr>\n",
       "      <th>1</th>\n",
       "      <td>37</td>\n",
       "      <td>1</td>\n",
       "      <td>2</td>\n",
       "      <td>130</td>\n",
       "      <td>250</td>\n",
       "      <td>0</td>\n",
       "      <td>1</td>\n",
       "      <td>187</td>\n",
       "      <td>0</td>\n",
       "      <td>3.5</td>\n",
       "      <td>0</td>\n",
       "      <td>0</td>\n",
       "      <td>2</td>\n",
       "      <td>0</td>\n",
       "    </tr>\n",
       "    <tr>\n",
       "      <th>2</th>\n",
       "      <td>41</td>\n",
       "      <td>0</td>\n",
       "      <td>1</td>\n",
       "      <td>130</td>\n",
       "      <td>204</td>\n",
       "      <td>0</td>\n",
       "      <td>0</td>\n",
       "      <td>172</td>\n",
       "      <td>0</td>\n",
       "      <td>1.4</td>\n",
       "      <td>2</td>\n",
       "      <td>0</td>\n",
       "      <td>2</td>\n",
       "      <td>0</td>\n",
       "    </tr>\n",
       "    <tr>\n",
       "      <th>3</th>\n",
       "      <td>56</td>\n",
       "      <td>1</td>\n",
       "      <td>1</td>\n",
       "      <td>120</td>\n",
       "      <td>236</td>\n",
       "      <td>0</td>\n",
       "      <td>1</td>\n",
       "      <td>178</td>\n",
       "      <td>0</td>\n",
       "      <td>0.8</td>\n",
       "      <td>2</td>\n",
       "      <td>0</td>\n",
       "      <td>2</td>\n",
       "      <td>0</td>\n",
       "    </tr>\n",
       "    <tr>\n",
       "      <th>4</th>\n",
       "      <td>57</td>\n",
       "      <td>0</td>\n",
       "      <td>0</td>\n",
       "      <td>120</td>\n",
       "      <td>354</td>\n",
       "      <td>0</td>\n",
       "      <td>1</td>\n",
       "      <td>163</td>\n",
       "      <td>1</td>\n",
       "      <td>0.6</td>\n",
       "      <td>2</td>\n",
       "      <td>0</td>\n",
       "      <td>2</td>\n",
       "      <td>0</td>\n",
       "    </tr>\n",
       "  </tbody>\n",
       "</table>\n",
       "</div>"
      ],
      "text/plain": [
       "   age  sex  cp  trestbps  chol  fbs  restecg  thalach  exang  oldpeak  slope  \\\n",
       "0   63    1   3       145   233    1        0      150      0      2.3      0   \n",
       "1   37    1   2       130   250    0        1      187      0      3.5      0   \n",
       "2   41    0   1       130   204    0        0      172      0      1.4      2   \n",
       "3   56    1   1       120   236    0        1      178      0      0.8      2   \n",
       "4   57    0   0       120   354    0        1      163      1      0.6      2   \n",
       "\n",
       "   ca  thal  target  \n",
       "0   0     1       0  \n",
       "1   0     2       0  \n",
       "2   0     2       0  \n",
       "3   0     2       0  \n",
       "4   0     2       0  "
      ]
     },
     "execution_count": 2,
     "metadata": {},
     "output_type": "execute_result"
    }
   ],
   "source": [
    "#load the data:\n",
    "path = './'\n",
    "filename = 'DATA.csv'\n",
    "\n",
    "try:\n",
    "    data_heart = pd.read_csv(path+filename,sep=\"\\t\")\n",
    "    data_heart = data_heart.drop(['Unnamed: 0'], axis=1)\n",
    "    print(\"File Loaded Succesfully \")\n",
    "except:\n",
    "    print(\"File Not Found !!\")\n",
    "    \n",
    "data_heart.head()"
   ]
  },
  {
   "cell_type": "code",
   "execution_count": 3,
   "metadata": {},
   "outputs": [
    {
     "name": "stdout",
     "output_type": "stream",
     "text": [
      "(303, 5) (303,)\n",
      "(212, 5) (212,)\n",
      "(91, 5) (91,)\n"
     ]
    }
   ],
   "source": [
    "y = data_heart['target'] \n",
    "include_col = ['cp','thalach','oldpeak','ca','thal']\n",
    "\n",
    "X = data_heart[[i for i in data_heart.columns.values.tolist() if i in include_col]]\n",
    "print (X.shape, y.shape)\n",
    "\n",
    "X_train, X_test, y_train, y_test = train_test_split(X, y, test_size=0.30, random_state=10)\n",
    "print (X_train.shape, y_train.shape)\n",
    "print (X_test.shape, y_test.shape)"
   ]
  },
  {
   "cell_type": "code",
   "execution_count": 4,
   "metadata": {},
   "outputs": [],
   "source": [
    "## Scikit learn and Statsmodel packages\n",
    "from sklearn.linear_model import LogisticRegression, LinearRegression\n",
    "import statsmodels.api as sm"
   ]
  },
  {
   "cell_type": "code",
   "execution_count": 5,
   "metadata": {},
   "outputs": [
    {
     "data": {
      "text/plain": [
       "LogisticRegression(C=1.0, class_weight=None, dual=False, fit_intercept=True,\n",
       "          intercept_scaling=1, max_iter=100, multi_class='ovr', n_jobs=1,\n",
       "          penalty='l2', random_state=None, solver='liblinear', tol=0.0001,\n",
       "          verbose=0, warm_start=False)"
      ]
     },
     "execution_count": 5,
     "metadata": {},
     "output_type": "execute_result"
    }
   ],
   "source": [
    "'''Use scikit learn'''\n",
    "r_d_logistic = LogisticRegression()\n",
    "r_d_logistic.fit(X_train, y_train)"
   ]
  },
  {
   "cell_type": "code",
   "execution_count": 6,
   "metadata": {},
   "outputs": [
    {
     "name": "stdout",
     "output_type": "stream",
     "text": [
      "Optimization terminated successfully.\n",
      "         Current function value: 0.400082\n",
      "         Iterations 7\n",
      "                           Logit Regression Results                           \n",
      "==============================================================================\n",
      "Dep. Variable:                 target   No. Observations:                  212\n",
      "Model:                          Logit   Df Residuals:                      207\n",
      "Method:                           MLE   Df Model:                            4\n",
      "Date:                Sat, 24 Nov 2018   Pseudo R-squ.:                  0.4105\n",
      "Time:                        18:18:14   Log-Likelihood:                -84.817\n",
      "converged:                       True   LL-Null:                       -143.88\n",
      "                                        LLR p-value:                 1.349e-24\n",
      "==============================================================================\n",
      "                 coef    std err          z      P>|z|      [0.025      0.975]\n",
      "------------------------------------------------------------------------------\n",
      "cp            -0.8850      0.200     -4.424      0.000      -1.277      -0.493\n",
      "thalach       -0.0177      0.005     -3.760      0.000      -0.027      -0.008\n",
      "oldpeak        0.8100      0.211      3.841      0.000       0.397       1.223\n",
      "ca             0.8854      0.216      4.094      0.000       0.462       1.309\n",
      "thal           0.7827      0.292      2.677      0.007       0.210       1.356\n",
      "==============================================================================\n"
     ]
    }
   ],
   "source": [
    "## Set up the regression\n",
    "logit = sm.Logit(y_train, X_train)\n",
    "logit_result = logit.fit()\n",
    "## lets get the results\n",
    "print (logit_result.summary())"
   ]
  },
  {
   "cell_type": "code",
   "execution_count": 7,
   "metadata": {},
   "outputs": [
    {
     "name": "stdout",
     "output_type": "stream",
     "text": [
      "246    0.952732\n",
      "183    0.638440\n",
      "229    0.429923\n",
      "126    0.292309\n",
      "184    0.899259\n",
      "1      0.336534\n",
      "59     0.410251\n",
      "194    0.373433\n",
      "132    0.100973\n",
      "175    0.875528\n",
      "dtype: float64\n"
     ]
    }
   ],
   "source": [
    "predictions = logit_result.predict(X_test)\n",
    "predictions_nominal = [ 0 if x < 0.5 else 1 for x in predictions]\n",
    "print (predictions[:10])"
   ]
  },
  {
   "cell_type": "code",
   "execution_count": 8,
   "metadata": {},
   "outputs": [
    {
     "name": "stdout",
     "output_type": "stream",
     "text": [
      "             precision    recall  f1-score   support\n",
      "\n",
      "          0      0.725     0.902     0.804        41\n",
      "          1      0.900     0.720     0.800        50\n",
      "\n",
      "avg / total      0.821     0.802     0.802        91\n",
      "\n"
     ]
    }
   ],
   "source": [
    "print (classification_report(y_test, predictions_nominal, digits=3))"
   ]
  },
  {
   "cell_type": "markdown",
   "metadata": {},
   "source": [
    "# Random Forest Classifier"
   ]
  },
  {
   "cell_type": "code",
   "execution_count": 9,
   "metadata": {},
   "outputs": [],
   "source": [
    "from sklearn.ensemble import RandomForestClassifier"
   ]
  },
  {
   "cell_type": "code",
   "execution_count": 10,
   "metadata": {},
   "outputs": [],
   "source": [
    "y = data_heart['target'] \n",
    "exclude_col = ['target']\n",
    "\n",
    "X = data_heart[[i for i in data_heart.columns.values.tolist() if i not in exclude_col]]\n",
    "\n",
    "X_train, X_test, y_train, y_test = train_test_split(X, y, test_size=0.20, random_state=10)"
   ]
  },
  {
   "cell_type": "code",
   "execution_count": 46,
   "metadata": {},
   "outputs": [
    {
     "name": "stdout",
     "output_type": "stream",
     "text": [
      "acc train: 99.59\n",
      "acc test: 80.33\n"
     ]
    }
   ],
   "source": [
    "# Train: Random Forest\n",
    "random_forest = RandomForestClassifier(n_estimators=10, random_state = 0)\n",
    "random_forest.fit(X_train, y_train)\n",
    "Y_pred = random_forest.predict(X_test)\n",
    "acc_train = round(random_forest.score(X_train, y_train) * 100, 2)\n",
    "acc_val = round(random_forest.score(X_test, y_test) * 100, 2)\n",
    "\n",
    "print(\"acc train: \" + str(acc_train))\n",
    "print(\"acc test: \"+ str(acc_val))"
   ]
  },
  {
   "cell_type": "code",
   "execution_count": 37,
   "metadata": {},
   "outputs": [
    {
     "data": {
      "image/png": "[encoded data removed]",
      "text/plain": [
       "<Figure size 432x288 with 1 Axes>"
      ]
     },
     "metadata": {},
     "output_type": "display_data"
    }
   ],
   "source": [
    "feature_importance = random_forest.feature_importances_\n",
    "feat_importances = pd.Series(random_forest.feature_importances_, index= data_heart.columns[:-1])\n",
    "feat_importances = feat_importances.nlargest(13)\n",
    "\n",
    "feature = data_heart.columns.values.tolist()[0:-1]\n",
    "importance = sorted(random_forest.feature_importances_.tolist())\n",
    "\n",
    "\n",
    "x_pos = [i for i, _ in enumerate(feature)]\n",
    "\n",
    "plt.barh(x_pos, importance , color='dodgerblue')\n",
    "plt.ylabel(\"feature\")\n",
    "plt.xlabel(\"importance\")\n",
    "plt.title(\"feature_importances\")\n",
    "\n",
    "plt.yticks(x_pos, feature)\n",
    "\n",
    "plt.show()"
   ]
  },
  {
   "cell_type": "markdown",
   "metadata": {},
   "source": [
    "# Using Neural Networks"
   ]
  },
  {
   "cell_type": "code",
   "execution_count": 16,
   "metadata": {},
   "outputs": [
    {
     "ename": "ValueError",
     "evalue": "Found input variables with inconsistent numbers of samples: [61, 303]",
     "output_type": "error",
     "traceback": [
      "\u001b[1;31m---------------------------------------------------------------------------\u001b[0m",
      "\u001b[1;31mValueError\u001b[0m                                Traceback (most recent call last)",
      "\u001b[1;32m<ipython-input-16-324a03954b52>\u001b[0m in \u001b[0;36m<module>\u001b[1;34m()\u001b[0m\n\u001b[1;32m----> 1\u001b[1;33m \u001b[0mX_train\u001b[0m\u001b[1;33m,\u001b[0m \u001b[0mX_test\u001b[0m\u001b[1;33m,\u001b[0m \u001b[0my_train\u001b[0m\u001b[1;33m,\u001b[0m \u001b[0my_test\u001b[0m \u001b[1;33m=\u001b[0m \u001b[0mtrain_test_split\u001b[0m\u001b[1;33m(\u001b[0m\u001b[0mX\u001b[0m\u001b[1;33m,\u001b[0m \u001b[0my\u001b[0m\u001b[1;33m,\u001b[0m \u001b[0mtest_size\u001b[0m\u001b[1;33m=\u001b[0m\u001b[1;36m0.20\u001b[0m\u001b[1;33m,\u001b[0m \u001b[0mrandom_state\u001b[0m\u001b[1;33m=\u001b[0m\u001b[1;36m10\u001b[0m\u001b[1;33m)\u001b[0m\u001b[1;33m\u001b[0m\u001b[0m\n\u001b[0m\u001b[0;32m      2\u001b[0m \u001b[0mX_train\u001b[0m\u001b[1;33m.\u001b[0m\u001b[0mhead\u001b[0m\u001b[1;33m(\u001b[0m\u001b[1;33m)\u001b[0m\u001b[1;33m\u001b[0m\u001b[0m\n",
      "\u001b[1;32m~\\Anaconda3\\lib\\site-packages\\sklearn\\model_selection\\_split.py\u001b[0m in \u001b[0;36mtrain_test_split\u001b[1;34m(*arrays, **options)\u001b[0m\n\u001b[0;32m   2029\u001b[0m         \u001b[0mtest_size\u001b[0m \u001b[1;33m=\u001b[0m \u001b[1;36m0.25\u001b[0m\u001b[1;33m\u001b[0m\u001b[0m\n\u001b[0;32m   2030\u001b[0m \u001b[1;33m\u001b[0m\u001b[0m\n\u001b[1;32m-> 2031\u001b[1;33m     \u001b[0marrays\u001b[0m \u001b[1;33m=\u001b[0m \u001b[0mindexable\u001b[0m\u001b[1;33m(\u001b[0m\u001b[1;33m*\u001b[0m\u001b[0marrays\u001b[0m\u001b[1;33m)\u001b[0m\u001b[1;33m\u001b[0m\u001b[0m\n\u001b[0m\u001b[0;32m   2032\u001b[0m \u001b[1;33m\u001b[0m\u001b[0m\n\u001b[0;32m   2033\u001b[0m     \u001b[1;32mif\u001b[0m \u001b[0mshuffle\u001b[0m \u001b[1;32mis\u001b[0m \u001b[1;32mFalse\u001b[0m\u001b[1;33m:\u001b[0m\u001b[1;33m\u001b[0m\u001b[0m\n",
      "\u001b[1;32m~\\Anaconda3\\lib\\site-packages\\sklearn\\utils\\validation.py\u001b[0m in \u001b[0;36mindexable\u001b[1;34m(*iterables)\u001b[0m\n\u001b[0;32m    227\u001b[0m         \u001b[1;32melse\u001b[0m\u001b[1;33m:\u001b[0m\u001b[1;33m\u001b[0m\u001b[0m\n\u001b[0;32m    228\u001b[0m             \u001b[0mresult\u001b[0m\u001b[1;33m.\u001b[0m\u001b[0mappend\u001b[0m\u001b[1;33m(\u001b[0m\u001b[0mnp\u001b[0m\u001b[1;33m.\u001b[0m\u001b[0marray\u001b[0m\u001b[1;33m(\u001b[0m\u001b[0mX\u001b[0m\u001b[1;33m)\u001b[0m\u001b[1;33m)\u001b[0m\u001b[1;33m\u001b[0m\u001b[0m\n\u001b[1;32m--> 229\u001b[1;33m     \u001b[0mcheck_consistent_length\u001b[0m\u001b[1;33m(\u001b[0m\u001b[1;33m*\u001b[0m\u001b[0mresult\u001b[0m\u001b[1;33m)\u001b[0m\u001b[1;33m\u001b[0m\u001b[0m\n\u001b[0m\u001b[0;32m    230\u001b[0m     \u001b[1;32mreturn\u001b[0m \u001b[0mresult\u001b[0m\u001b[1;33m\u001b[0m\u001b[0m\n\u001b[0;32m    231\u001b[0m \u001b[1;33m\u001b[0m\u001b[0m\n",
      "\u001b[1;32m~\\Anaconda3\\lib\\site-packages\\sklearn\\utils\\validation.py\u001b[0m in \u001b[0;36mcheck_consistent_length\u001b[1;34m(*arrays)\u001b[0m\n\u001b[0;32m    202\u001b[0m     \u001b[1;32mif\u001b[0m \u001b[0mlen\u001b[0m\u001b[1;33m(\u001b[0m\u001b[0muniques\u001b[0m\u001b[1;33m)\u001b[0m \u001b[1;33m>\u001b[0m \u001b[1;36m1\u001b[0m\u001b[1;33m:\u001b[0m\u001b[1;33m\u001b[0m\u001b[0m\n\u001b[0;32m    203\u001b[0m         raise ValueError(\"Found input variables with inconsistent numbers of\"\n\u001b[1;32m--> 204\u001b[1;33m                          \" samples: %r\" % [int(l) for l in lengths])\n\u001b[0m\u001b[0;32m    205\u001b[0m \u001b[1;33m\u001b[0m\u001b[0m\n\u001b[0;32m    206\u001b[0m \u001b[1;33m\u001b[0m\u001b[0m\n",
      "\u001b[1;31mValueError\u001b[0m: Found input variables with inconsistent numbers of samples: [61, 303]"
     ]
    }
   ],
   "source": [
    "X_train, X_test, y_train, y_test = train_test_split(X, y, test_size=0.20, random_state=10)\n",
    "X_train.head()"
   ]
  },
  {
   "cell_type": "code",
   "execution_count": 35,
   "metadata": {},
   "outputs": [
    {
     "name": "stdout",
     "output_type": "stream",
     "text": [
      "Epoch:  0  Test Acc :  tensor(57)  Training Acc : tensor(42)\n",
      "Epoch:  100  Test Acc :  tensor(42)  Training Acc : tensor(57)\n",
      "Epoch:  200  Test Acc :  tensor(42)  Training Acc : tensor(57)\n",
      "Epoch:  300  Test Acc :  tensor(42)  Training Acc : tensor(57)\n",
      "Epoch:  400  Test Acc :  tensor(67)  Training Acc : tensor(70)\n",
      "Epoch:  500  Test Acc :  tensor(73)  Training Acc : tensor(72)\n",
      "Epoch:  600  Test Acc :  tensor(72)  Training Acc : tensor(72)\n",
      "Epoch:  700  Test Acc :  tensor(70)  Training Acc : tensor(71)\n",
      "Epoch:  800  Test Acc :  tensor(70)  Training Acc : tensor(71)\n",
      "Epoch:  900  Test Acc :  tensor(72)  Training Acc : tensor(73)\n",
      "Epoch:  1000  Test Acc :  tensor(72)  Training Acc : tensor(75)\n",
      "Epoch:  1100  Test Acc :  tensor(72)  Training Acc : tensor(78)\n",
      "Epoch:  1200  Test Acc :  tensor(73)  Training Acc : tensor(80)\n",
      "Epoch:  1300  Test Acc :  tensor(77)  Training Acc : tensor(84)\n",
      "Epoch:  1400  Test Acc :  tensor(77)  Training Acc : tensor(84)\n",
      "Epoch:  1500  Test Acc :  tensor(78)  Training Acc : tensor(85)\n",
      "Epoch:  1600  Test Acc :  tensor(78)  Training Acc : tensor(85)\n",
      "Epoch:  1700  Test Acc :  tensor(80)  Training Acc : tensor(86)\n",
      "Epoch:  1800  Test Acc :  tensor(78)  Training Acc : tensor(86)\n",
      "Epoch:  1900  Test Acc :  tensor(78)  Training Acc : tensor(85)\n",
      "Epoch:  2000  Test Acc :  tensor(78)  Training Acc : tensor(85)\n",
      "Epoch:  2100  Test Acc :  tensor(78)  Training Acc : tensor(86)\n",
      "Epoch:  2200  Test Acc :  tensor(80)  Training Acc : tensor(87)\n",
      "Epoch:  2300  Test Acc :  tensor(80)  Training Acc : tensor(87)\n",
      "Epoch:  2400  Test Acc :  tensor(80)  Training Acc : tensor(88)\n",
      "Epoch:  2500  Test Acc :  tensor(80)  Training Acc : tensor(88)\n",
      "Epoch:  2600  Test Acc :  tensor(78)  Training Acc : tensor(88)\n",
      "Epoch:  2700  Test Acc :  tensor(80)  Training Acc : tensor(88)\n",
      "Epoch:  2800  Test Acc :  tensor(78)  Training Acc : tensor(88)\n",
      "Epoch:  2900  Test Acc :  tensor(78)  Training Acc : tensor(87)\n"
     ]
    }
   ],
   "source": [
    "### NUERAL NETWORK\n",
    "import torch\n",
    "import torch.nn as nn\n",
    "import torch.nn.functional as F\n",
    "from torch.autograd import Variable\n",
    "torch.manual_seed(42)\n",
    "\n",
    "#hyperparameters\n",
    "# h1 = 6\n",
    "# h2 = 4 \n",
    "# lr = 0.0023\n",
    "# num_epoch =7000\n",
    "\n",
    "h1 = 6\n",
    "h2 = 4\n",
    "lr = 0.0001\n",
    "num_epoch = 3000\n",
    "\n",
    "#build model\n",
    "class Net(nn.Module):\n",
    "\n",
    "    def __init__(self):\n",
    "        super(Net, self).__init__()\n",
    "        self.fc1 = nn.Linear(13, h1)\n",
    "        self.fc2 = nn.Linear(h1, h2)\n",
    "        self.fc3 = nn.Linear(h2, 2)\n",
    "    \n",
    "\n",
    "    def forward(self, x):\n",
    "        x = F.relu(self.fc1(x))\n",
    "        x = F.relu(self.fc2(x))\n",
    "        x = self.fc3(x)\n",
    "        #return  F.log_softmax(x, dim=1)\n",
    "        return x\n",
    "    \n",
    "    \n",
    "net = Net()\n",
    "\n",
    "#choose optimizer and loss function\n",
    "criterion = nn.CrossEntropyLoss()\n",
    "optimizer = torch.optim.RMSprop(net.parameters(), lr=lr, momentum=0.7)\n",
    "\n",
    "loss_per_epoch = []\n",
    "\n",
    "#train\n",
    "for epoch in range(num_epoch):\n",
    "    X = Variable(torch.Tensor(X_train.values).float())\n",
    "    Y = Variable(torch.Tensor(y_train.values).long())\n",
    "\n",
    "    #feedforward - backprop\n",
    "    optimizer.zero_grad()\n",
    "    \n",
    "    out = net(X)\n",
    "    loss = criterion(out, Y)\n",
    "    loss.backward()\n",
    "    optimizer.step()\n",
    "\n",
    "    if (epoch) % 100 == 0:\n",
    "        #get test accuracy\n",
    "        X = Variable(torch.Tensor(X_test.values).float())\n",
    "        Y = torch.Tensor(y_test.values).long()\n",
    "        out = net(X)\n",
    "        _, predicted = torch.max(out.data, 1)\n",
    "\n",
    "\n",
    "        #get training accuracy \n",
    "        Xt = Variable(torch.Tensor(X_train.values).float())\n",
    "        Yt = torch.Tensor(y_train.values).long()\n",
    "        out = net(Xt)\n",
    "        _, predicted_train = torch.max(out.data, 1)\n",
    "\n",
    "        #print accuration\n",
    "        testacc = (100 * torch.sum(Y==predicted) / len(y_test))\n",
    "        trainacc = (100 * torch.sum(Yt==predicted_train) / len(y_train))\n",
    "        print('Epoch: ',epoch,' Test Acc : ', testacc ,' Training Acc :' ,trainacc)\n",
    "#         print ('Epoch [%d/%d] Loss: %.4f' \n",
    "#                    %(epoch+1, num_epoch, loss.data[0]))\n",
    "    loss_per_epoch.append(loss.item()) \n",
    "        \n"
   ]
  },
  {
   "cell_type": "code",
   "execution_count": 36,
   "metadata": {},
   "outputs": [
    {
     "data": {
      "image/png": "[encoded data removed]",
      "text/plain": [
       "<Figure size 432x288 with 1 Axes>"
      ]
     },
     "metadata": {},
     "output_type": "display_data"
    },
    {
     "name": "stdout",
     "output_type": "stream",
     "text": [
      "Accuracy of the Test 80 %\n",
      "Accuracy of the Training 87 %\n"
     ]
    }
   ],
   "source": [
    "epochs = np.arange(1,num_epoch + 1)\n",
    "plt.plot(epochs, loss_per_epoch, label='Training')\n",
    "plt.ylabel('Average Loss')\n",
    "plt.xlabel('Epochs')\n",
    "plt.title('Loss decay')\n",
    "plt.legend()\n",
    "plt.show()       \n",
    "\n",
    "xtest = X_test\n",
    "ytest = y_test\n",
    "\n",
    "#get prediction\n",
    "X = Variable(torch.Tensor(xtest.values).float())\n",
    "Y = torch.Tensor(ytest.values).long()\n",
    "out = net(X)\n",
    "_, predicted = torch.max(out.data, 1)\n",
    "\n",
    "\n",
    "#get prediction train\n",
    "Xt = Variable(torch.Tensor(X_train.values).float())\n",
    "Yt = torch.Tensor(y_train.values).long()\n",
    "out = net(Xt)\n",
    "_, predicted_train = torch.max(out.data, 1)\n",
    "\n",
    "#get accuration\n",
    "print('Accuracy of the Test %d %%' % (100 * torch.sum(Y==predicted) / len(y_test)))\n",
    "print('Accuracy of the Training %d %%' % (100 * torch.sum(Yt==predicted_train) / len(y_train)))"
   ]
  },
  {
   "cell_type": "code",
   "execution_count": null,
   "metadata": {},
   "outputs": [],
   "source": []
  }
 ],
 "metadata": {
  "kernelspec": {
   "display_name": "Python 3",
   "language": "python",
   "name": "python3"
  },
  "language_info": {
   "codemirror_mode": {
    "name": "ipython",
    "version": 3
   },
   "file_extension": ".py",
   "mimetype": "text/x-python",
   "name": "python",
   "nbconvert_exporter": "python",
   "pygments_lexer": "ipython3",
   "version": "3.6.5"
  }
 },
 "nbformat": 4,
 "nbformat_minor": 2
}
